{
 "cells": [
  {
   "cell_type": "markdown",
   "metadata": {},
   "source": [
    "# TOTVS Labs Data Challenge: Preprocessing"
   ]
  },
  {
   "cell_type": "markdown",
   "metadata": {},
   "source": [
    "Import required modules"
   ]
  },
  {
   "cell_type": "code",
   "execution_count": 1,
   "metadata": {},
   "outputs": [],
   "source": [
    "import os\n",
    "import numpy as np\n",
    "import pandas as pd\n",
    "import seaborn as sns\n",
    "import scipy\n",
    "import pickle\n",
    "import datetime\n",
    "\n",
    "import matplotlib.pyplot as plt\n",
    "%matplotlib inline"
   ]
  },
  {
   "cell_type": "markdown",
   "metadata": {},
   "source": [
    "## Data preparation"
   ]
  },
  {
   "cell_type": "markdown",
   "metadata": {},
   "source": [
    "Reference:\n",
    "* customer_code: unique id of a customer;\n",
    "* branch_id: the branch id where this order was made;\n",
    "* sales_channel: the sales channel this order was made;\n",
    "* seller_code: seller that made this order;\n",
    "* register_date: date of the order;\n",
    "* total_price: total price of the order (sum of all items);\n",
    "* order_id: id of this order;\n",
    "* quantity: quantity of items, given by item_code, were bought;\n",
    "* item_total_price: total price of items, i.e., quantity* price;\n",
    "* unit_price: unit price of this item;\n",
    "* group_code: which group this customer belongs;\n",
    "* segment_code: segment this client belongs;\n",
    "* is_churn: True, if we believe the client will not come back. (for a `customer_code` this values is always the same)\n"
   ]
  },
  {
   "cell_type": "markdown",
   "metadata": {},
   "source": [
    "Load the given data"
   ]
  },
  {
   "cell_type": "code",
   "execution_count": 2,
   "metadata": {},
   "outputs": [],
   "source": [
    "original_df = pd.read_json(\"../data/challenge.json\")"
   ]
  },
  {
   "cell_type": "code",
   "execution_count": 3,
   "metadata": {},
   "outputs": [],
   "source": [
    "df = original_df.copy()"
   ]
  },
  {
   "cell_type": "code",
   "execution_count": 4,
   "metadata": {},
   "outputs": [
    {
     "data": {
      "text/plain": [
       "(204428, 14)"
      ]
     },
     "execution_count": 4,
     "metadata": {},
     "output_type": "execute_result"
    }
   ],
   "source": [
    "df.shape"
   ]
  },
  {
   "cell_type": "markdown",
   "metadata": {},
   "source": [
    "The dataset consists of 204K samples as 14 features... Checking the type of the entries"
   ]
  },
  {
   "cell_type": "code",
   "execution_count": 5,
   "metadata": {},
   "outputs": [
    {
     "data": {
      "text/html": [
       "<div>\n",
       "<style scoped>\n",
       "    .dataframe tbody tr th:only-of-type {\n",
       "        vertical-align: middle;\n",
       "    }\n",
       "\n",
       "    .dataframe tbody tr th {\n",
       "        vertical-align: top;\n",
       "    }\n",
       "\n",
       "    .dataframe thead th {\n",
       "        text-align: right;\n",
       "    }\n",
       "</style>\n",
       "<table border=\"1\" class=\"dataframe\">\n",
       "  <thead>\n",
       "    <tr style=\"text-align: right;\">\n",
       "      <th></th>\n",
       "      <th>branch_id</th>\n",
       "      <th>customer_code</th>\n",
       "      <th>group_code</th>\n",
       "      <th>is_churn</th>\n",
       "      <th>item_code</th>\n",
       "      <th>item_total_price</th>\n",
       "      <th>order_id</th>\n",
       "      <th>quantity</th>\n",
       "      <th>register_date</th>\n",
       "      <th>sales_channel</th>\n",
       "      <th>segment_code</th>\n",
       "      <th>seller_code</th>\n",
       "      <th>total_price</th>\n",
       "      <th>unit_price</th>\n",
       "    </tr>\n",
       "  </thead>\n",
       "  <tbody>\n",
       "    <tr>\n",
       "      <th>0</th>\n",
       "      <td>0</td>\n",
       "      <td>143</td>\n",
       "      <td>0</td>\n",
       "      <td>0.0</td>\n",
       "      <td>854</td>\n",
       "      <td>292.91</td>\n",
       "      <td>21804</td>\n",
       "      <td>10</td>\n",
       "      <td>2017-11-10T00:00:00Z</td>\n",
       "      <td>0</td>\n",
       "      <td>0</td>\n",
       "      <td>190</td>\n",
       "      <td>1613.53</td>\n",
       "      <td>25.04</td>\n",
       "    </tr>\n",
       "    <tr>\n",
       "      <th>1</th>\n",
       "      <td>0</td>\n",
       "      <td>433</td>\n",
       "      <td>0</td>\n",
       "      <td>0.0</td>\n",
       "      <td>246</td>\n",
       "      <td>287.19</td>\n",
       "      <td>5486</td>\n",
       "      <td>20</td>\n",
       "      <td>2011-05-16T00:00:00Z</td>\n",
       "      <td>1</td>\n",
       "      <td>5</td>\n",
       "      <td>153</td>\n",
       "      <td>11163.69</td>\n",
       "      <td>12.33</td>\n",
       "    </tr>\n",
       "    <tr>\n",
       "      <th>2</th>\n",
       "      <td>0</td>\n",
       "      <td>486</td>\n",
       "      <td>0</td>\n",
       "      <td>0.0</td>\n",
       "      <td>1420</td>\n",
       "      <td>184.84</td>\n",
       "      <td>22662</td>\n",
       "      <td>12</td>\n",
       "      <td>2018-01-24T00:00:00Z</td>\n",
       "      <td>0</td>\n",
       "      <td>0</td>\n",
       "      <td>166</td>\n",
       "      <td>6432.12</td>\n",
       "      <td>12.80</td>\n",
       "    </tr>\n",
       "    <tr>\n",
       "      <th>3</th>\n",
       "      <td>0</td>\n",
       "      <td>107</td>\n",
       "      <td>0</td>\n",
       "      <td>0.0</td>\n",
       "      <td>1963</td>\n",
       "      <td>189.18</td>\n",
       "      <td>3956</td>\n",
       "      <td>18</td>\n",
       "      <td>2010-07-28T00:00:00Z</td>\n",
       "      <td>1</td>\n",
       "      <td>0</td>\n",
       "      <td>156</td>\n",
       "      <td>831.82</td>\n",
       "      <td>10.51</td>\n",
       "    </tr>\n",
       "    <tr>\n",
       "      <th>4</th>\n",
       "      <td>0</td>\n",
       "      <td>768</td>\n",
       "      <td>0</td>\n",
       "      <td>0.0</td>\n",
       "      <td>1786</td>\n",
       "      <td>66.87</td>\n",
       "      <td>4730</td>\n",
       "      <td>5</td>\n",
       "      <td>2010-12-17T00:00:00Z</td>\n",
       "      <td>1</td>\n",
       "      <td>0</td>\n",
       "      <td>218</td>\n",
       "      <td>1736.48</td>\n",
       "      <td>11.82</td>\n",
       "    </tr>\n",
       "  </tbody>\n",
       "</table>\n",
       "</div>"
      ],
      "text/plain": [
       "   branch_id  customer_code  group_code  is_churn  item_code  \\\n",
       "0          0            143           0       0.0        854   \n",
       "1          0            433           0       0.0        246   \n",
       "2          0            486           0       0.0       1420   \n",
       "3          0            107           0       0.0       1963   \n",
       "4          0            768           0       0.0       1786   \n",
       "\n",
       "   item_total_price  order_id  quantity         register_date  sales_channel  \\\n",
       "0            292.91     21804        10  2017-11-10T00:00:00Z              0   \n",
       "1            287.19      5486        20  2011-05-16T00:00:00Z              1   \n",
       "2            184.84     22662        12  2018-01-24T00:00:00Z              0   \n",
       "3            189.18      3956        18  2010-07-28T00:00:00Z              1   \n",
       "4             66.87      4730         5  2010-12-17T00:00:00Z              1   \n",
       "\n",
       "   segment_code  seller_code  total_price  unit_price  \n",
       "0             0          190      1613.53       25.04  \n",
       "1             5          153     11163.69       12.33  \n",
       "2             0          166      6432.12       12.80  \n",
       "3             0          156       831.82       10.51  \n",
       "4             0          218      1736.48       11.82  "
      ]
     },
     "execution_count": 5,
     "metadata": {},
     "output_type": "execute_result"
    }
   ],
   "source": [
    "df.head()"
   ]
  },
  {
   "cell_type": "markdown",
   "metadata": {},
   "source": [
    "*register_date* is a date, we will convert it to the corresponding type"
   ]
  },
  {
   "cell_type": "code",
   "execution_count": 6,
   "metadata": {},
   "outputs": [
    {
     "data": {
      "text/plain": [
       "0   2017-11-10 00:00:00+00:00\n",
       "1   2011-05-16 00:00:00+00:00\n",
       "2   2018-01-24 00:00:00+00:00\n",
       "3   2010-07-28 00:00:00+00:00\n",
       "4   2010-12-17 00:00:00+00:00\n",
       "Name: register_date, dtype: datetime64[ns, UTC]"
      ]
     },
     "execution_count": 6,
     "metadata": {},
     "output_type": "execute_result"
    }
   ],
   "source": [
    "pd.to_datetime(df[\"register_date\"]).head()"
   ]
  },
  {
   "cell_type": "markdown",
   "metadata": {},
   "source": [
    "they seem to be just dates with no time... let's check that"
   ]
  },
  {
   "cell_type": "code",
   "execution_count": 7,
   "metadata": {},
   "outputs": [],
   "source": [
    "dates = pd.to_datetime(df[\"register_date\"])"
   ]
  },
  {
   "cell_type": "code",
   "execution_count": 8,
   "metadata": {},
   "outputs": [
    {
     "data": {
      "text/plain": [
       "Series([], Name: register_date, dtype: datetime64[ns, UTC])"
      ]
     },
     "execution_count": 8,
     "metadata": {},
     "output_type": "execute_result"
    }
   ],
   "source": [
    "dates[dates.apply(lambda x: x.time()) != datetime.time(0,0)]"
   ]
  },
  {
   "cell_type": "markdown",
   "metadata": {},
   "source": [
    "The series is empty, therefore they are all dates and we can just convert them to dates"
   ]
  },
  {
   "cell_type": "code",
   "execution_count": 9,
   "metadata": {},
   "outputs": [],
   "source": [
    "df[\"register_date\"] = dates.apply(lambda x: x.date())"
   ]
  },
  {
   "cell_type": "markdown",
   "metadata": {},
   "source": [
    "We check at the types of the other fields..."
   ]
  },
  {
   "cell_type": "code",
   "execution_count": 10,
   "metadata": {},
   "outputs": [
    {
     "data": {
      "text/plain": [
       "register_date    object\n",
       "dtype: object"
      ]
     },
     "execution_count": 10,
     "metadata": {},
     "output_type": "execute_result"
    }
   ],
   "source": [
    "dtypes = df.dtypes\n",
    "dtypes[(dtypes != np.int) & (dtypes != np.float)]"
   ]
  },
  {
   "cell_type": "markdown",
   "metadata": {},
   "source": [
    "We have numeric data (ints and floats) besides the dates already mentioned"
   ]
  },
  {
   "cell_type": "code",
   "execution_count": 11,
   "metadata": {},
   "outputs": [
    {
     "data": {
      "text/html": [
       "<div>\n",
       "<style scoped>\n",
       "    .dataframe tbody tr th:only-of-type {\n",
       "        vertical-align: middle;\n",
       "    }\n",
       "\n",
       "    .dataframe tbody tr th {\n",
       "        vertical-align: top;\n",
       "    }\n",
       "\n",
       "    .dataframe thead th {\n",
       "        text-align: right;\n",
       "    }\n",
       "</style>\n",
       "<table border=\"1\" class=\"dataframe\">\n",
       "  <thead>\n",
       "    <tr style=\"text-align: right;\">\n",
       "      <th></th>\n",
       "      <th>branch_id</th>\n",
       "      <th>customer_code</th>\n",
       "      <th>group_code</th>\n",
       "      <th>is_churn</th>\n",
       "      <th>item_code</th>\n",
       "      <th>item_total_price</th>\n",
       "      <th>order_id</th>\n",
       "      <th>quantity</th>\n",
       "      <th>sales_channel</th>\n",
       "      <th>segment_code</th>\n",
       "      <th>seller_code</th>\n",
       "      <th>total_price</th>\n",
       "      <th>unit_price</th>\n",
       "    </tr>\n",
       "  </thead>\n",
       "  <tbody>\n",
       "    <tr>\n",
       "      <th>count</th>\n",
       "      <td>204428.0</td>\n",
       "      <td>204428.000000</td>\n",
       "      <td>204428.000000</td>\n",
       "      <td>202513.000000</td>\n",
       "      <td>204428.000000</td>\n",
       "      <td>204428.000000</td>\n",
       "      <td>204428.000000</td>\n",
       "      <td>204428.000000</td>\n",
       "      <td>204428.000000</td>\n",
       "      <td>204428.000000</td>\n",
       "      <td>204428.000000</td>\n",
       "      <td>204428.000000</td>\n",
       "      <td>204428.000000</td>\n",
       "    </tr>\n",
       "    <tr>\n",
       "      <th>mean</th>\n",
       "      <td>0.0</td>\n",
       "      <td>447.489062</td>\n",
       "      <td>0.307184</td>\n",
       "      <td>0.191168</td>\n",
       "      <td>1437.298981</td>\n",
       "      <td>304.048244</td>\n",
       "      <td>12434.088863</td>\n",
       "      <td>12.332694</td>\n",
       "      <td>1.761182</td>\n",
       "      <td>0.846381</td>\n",
       "      <td>145.543022</td>\n",
       "      <td>5337.072931</td>\n",
       "      <td>47.456664</td>\n",
       "    </tr>\n",
       "    <tr>\n",
       "      <th>std</th>\n",
       "      <td>0.0</td>\n",
       "      <td>246.678026</td>\n",
       "      <td>0.714639</td>\n",
       "      <td>0.393222</td>\n",
       "      <td>903.166319</td>\n",
       "      <td>1009.268287</td>\n",
       "      <td>6935.623011</td>\n",
       "      <td>53.299314</td>\n",
       "      <td>2.929541</td>\n",
       "      <td>1.615763</td>\n",
       "      <td>75.197609</td>\n",
       "      <td>21268.855032</td>\n",
       "      <td>145.295694</td>\n",
       "    </tr>\n",
       "    <tr>\n",
       "      <th>min</th>\n",
       "      <td>0.0</td>\n",
       "      <td>0.000000</td>\n",
       "      <td>0.000000</td>\n",
       "      <td>0.000000</td>\n",
       "      <td>0.000000</td>\n",
       "      <td>0.000000</td>\n",
       "      <td>0.000000</td>\n",
       "      <td>1.000000</td>\n",
       "      <td>0.000000</td>\n",
       "      <td>0.000000</td>\n",
       "      <td>0.000000</td>\n",
       "      <td>0.010000</td>\n",
       "      <td>0.010000</td>\n",
       "    </tr>\n",
       "    <tr>\n",
       "      <th>25%</th>\n",
       "      <td>0.0</td>\n",
       "      <td>221.000000</td>\n",
       "      <td>0.000000</td>\n",
       "      <td>0.000000</td>\n",
       "      <td>631.000000</td>\n",
       "      <td>79.600000</td>\n",
       "      <td>6497.750000</td>\n",
       "      <td>3.000000</td>\n",
       "      <td>0.000000</td>\n",
       "      <td>0.000000</td>\n",
       "      <td>83.000000</td>\n",
       "      <td>1180.470000</td>\n",
       "      <td>14.670000</td>\n",
       "    </tr>\n",
       "    <tr>\n",
       "      <th>50%</th>\n",
       "      <td>0.0</td>\n",
       "      <td>486.000000</td>\n",
       "      <td>0.000000</td>\n",
       "      <td>0.000000</td>\n",
       "      <td>1455.000000</td>\n",
       "      <td>156.150000</td>\n",
       "      <td>12698.000000</td>\n",
       "      <td>6.000000</td>\n",
       "      <td>0.000000</td>\n",
       "      <td>0.000000</td>\n",
       "      <td>156.000000</td>\n",
       "      <td>2035.820000</td>\n",
       "      <td>21.780000</td>\n",
       "    </tr>\n",
       "    <tr>\n",
       "      <th>75%</th>\n",
       "      <td>0.0</td>\n",
       "      <td>651.000000</td>\n",
       "      <td>0.000000</td>\n",
       "      <td>0.000000</td>\n",
       "      <td>2048.000000</td>\n",
       "      <td>293.862500</td>\n",
       "      <td>18280.000000</td>\n",
       "      <td>12.000000</td>\n",
       "      <td>2.000000</td>\n",
       "      <td>2.000000</td>\n",
       "      <td>195.000000</td>\n",
       "      <td>3611.070000</td>\n",
       "      <td>46.720000</td>\n",
       "    </tr>\n",
       "    <tr>\n",
       "      <th>max</th>\n",
       "      <td>0.0</td>\n",
       "      <td>837.000000</td>\n",
       "      <td>3.000000</td>\n",
       "      <td>1.000000</td>\n",
       "      <td>2980.000000</td>\n",
       "      <td>102951.110000</td>\n",
       "      <td>24617.000000</td>\n",
       "      <td>7000.000000</td>\n",
       "      <td>105.000000</td>\n",
       "      <td>7.000000</td>\n",
       "      <td>289.000000</td>\n",
       "      <td>428976.460000</td>\n",
       "      <td>26280.000000</td>\n",
       "    </tr>\n",
       "  </tbody>\n",
       "</table>\n",
       "</div>"
      ],
      "text/plain": [
       "       branch_id  customer_code     group_code       is_churn      item_code  \\\n",
       "count   204428.0  204428.000000  204428.000000  202513.000000  204428.000000   \n",
       "mean         0.0     447.489062       0.307184       0.191168    1437.298981   \n",
       "std          0.0     246.678026       0.714639       0.393222     903.166319   \n",
       "min          0.0       0.000000       0.000000       0.000000       0.000000   \n",
       "25%          0.0     221.000000       0.000000       0.000000     631.000000   \n",
       "50%          0.0     486.000000       0.000000       0.000000    1455.000000   \n",
       "75%          0.0     651.000000       0.000000       0.000000    2048.000000   \n",
       "max          0.0     837.000000       3.000000       1.000000    2980.000000   \n",
       "\n",
       "       item_total_price       order_id       quantity  sales_channel  \\\n",
       "count     204428.000000  204428.000000  204428.000000  204428.000000   \n",
       "mean         304.048244   12434.088863      12.332694       1.761182   \n",
       "std         1009.268287    6935.623011      53.299314       2.929541   \n",
       "min            0.000000       0.000000       1.000000       0.000000   \n",
       "25%           79.600000    6497.750000       3.000000       0.000000   \n",
       "50%          156.150000   12698.000000       6.000000       0.000000   \n",
       "75%          293.862500   18280.000000      12.000000       2.000000   \n",
       "max       102951.110000   24617.000000    7000.000000     105.000000   \n",
       "\n",
       "        segment_code    seller_code    total_price     unit_price  \n",
       "count  204428.000000  204428.000000  204428.000000  204428.000000  \n",
       "mean        0.846381     145.543022    5337.072931      47.456664  \n",
       "std         1.615763      75.197609   21268.855032     145.295694  \n",
       "min         0.000000       0.000000       0.010000       0.010000  \n",
       "25%         0.000000      83.000000    1180.470000      14.670000  \n",
       "50%         0.000000     156.000000    2035.820000      21.780000  \n",
       "75%         2.000000     195.000000    3611.070000      46.720000  \n",
       "max         7.000000     289.000000  428976.460000   26280.000000  "
      ]
     },
     "execution_count": 11,
     "metadata": {},
     "output_type": "execute_result"
    }
   ],
   "source": [
    "df.describe()"
   ]
  },
  {
   "cell_type": "markdown",
   "metadata": {},
   "source": [
    "*branch_id* is constant, we may ignore it"
   ]
  },
  {
   "cell_type": "code",
   "execution_count": 12,
   "metadata": {},
   "outputs": [],
   "source": [
    "df.drop(columns=\"branch_id\", inplace=True)"
   ]
  },
  {
   "cell_type": "markdown",
   "metadata": {},
   "source": [
    "From the summary we see that column *is_churn* has missing values..."
   ]
  },
  {
   "cell_type": "code",
   "execution_count": 13,
   "metadata": {},
   "outputs": [],
   "source": [
    "# TODO: we can see if we can fill them in"
   ]
  },
  {
   "cell_type": "markdown",
   "metadata": {},
   "source": [
    "We save the results for the next steps...."
   ]
  },
  {
   "cell_type": "code",
   "execution_count": 14,
   "metadata": {},
   "outputs": [],
   "source": [
    "df.to_pickle(\"../models/df_preprocessed.pkl\")"
   ]
  },
  {
   "cell_type": "markdown",
   "metadata": {},
   "source": [
    "### Summary\n",
    "\n",
    "* we removed variable *branch_id* because it was constant\n",
    "* *is_churn* has missing values\n",
    "* *register_date* is converted to a date\n",
    "* the processed df is saved to \"../models/df_preprocessed.pkl\""
   ]
  },
  {
   "cell_type": "code",
   "execution_count": null,
   "metadata": {},
   "outputs": [],
   "source": []
  }
 ],
 "metadata": {
  "kernelspec": {
   "display_name": "Python 3",
   "language": "python",
   "name": "python3"
  },
  "language_info": {
   "codemirror_mode": {
    "name": "ipython",
    "version": 3
   },
   "file_extension": ".py",
   "mimetype": "text/x-python",
   "name": "python",
   "nbconvert_exporter": "python",
   "pygments_lexer": "ipython3",
   "version": "3.7.1"
  }
 },
 "nbformat": 4,
 "nbformat_minor": 2
}
