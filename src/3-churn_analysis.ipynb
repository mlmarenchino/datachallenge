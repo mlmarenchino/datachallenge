{
 "cells": [
  {
   "cell_type": "markdown",
   "metadata": {},
   "source": [
    "# TOTVS Labs Data Challenge: customer churn analysis"
   ]
  },
  {
   "cell_type": "markdown",
   "metadata": {},
   "source": [
    "Import the required modules"
   ]
  },
  {
   "cell_type": "code",
   "execution_count": 1,
   "metadata": {},
   "outputs": [],
   "source": [
    "import os\n",
    "import numpy as np\n",
    "import pandas as pd\n",
    "import seaborn as sns\n",
    "import scipy\n",
    "import pickle\n",
    "\n",
    "import matplotlib.pyplot as plt\n",
    "%matplotlib inline\n",
    "\n",
    "import sys"
   ]
  },
  {
   "cell_type": "markdown",
   "metadata": {},
   "source": [
    "# Churn Analysis"
   ]
  },
  {
   "cell_type": "markdown",
   "metadata": {},
   "source": [
    "Even though the dataset has a *is_churn* label, it calls my attention that the classification remains as constant during the whole time. Therefore, I will create my own churn classification and, if I have time, I'll compare it with the given label.\n",
    "\n",
    "We first define what churn is. To do that, as we don't know anything about the business, we will try to set the period of time determining when a customer is to be classified as 'churn'. We are tying to determine N so that if the customer doesn't start an order in N days, then we say that it's a case of churn."
   ]
  },
  {
   "cell_type": "code",
   "execution_count": 2,
   "metadata": {},
   "outputs": [],
   "source": [
    "with open(\"../models/customer_frequencies.pkl\", \"rb\") as fd:\n",
    "    customer_frequencies = pickle.load(fd)"
   ]
  },
  {
   "cell_type": "code",
   "execution_count": 3,
   "metadata": {},
   "outputs": [
    {
     "data": {
      "text/plain": [
       "<matplotlib.axes._subplots.AxesSubplot at 0x7ff40c1180f0>"
      ]
     },
     "execution_count": 3,
     "metadata": {},
     "output_type": "execute_result"
    },
    {
     "data": {
      "image/png": "[encoded data removed]",
      "text/plain": [
       "<Figure size 432x288 with 1 Axes>"
      ]
     },
     "metadata": {
      "needs_background": "light"
     },
     "output_type": "display_data"
    }
   ],
   "source": [
    "plt.title('customers buying frequencies by days')\n",
    "plt.xlabel(\"days\")\n",
    "plt.ylim([0,700])\n",
    "sns.distplot(customer_frequencies, bins = int(len(customer_frequencies)/20), kde=False)"
   ]
  },
  {
   "cell_type": "markdown",
   "metadata": {},
   "source": [
    "We'll plot the same graph but limiting x/y axes"
   ]
  },
  {
   "cell_type": "code",
   "execution_count": 4,
   "metadata": {},
   "outputs": [
    {
     "data": {
      "text/plain": [
       "<matplotlib.axes._subplots.AxesSubplot at 0x7ff40b56fe48>"
      ]
     },
     "execution_count": 4,
     "metadata": {},
     "output_type": "execute_result"
    },
    {
     "data": {
      "image/png": "[encoded data removed]",
      "text/plain": [
       "<Figure size 432x288 with 1 Axes>"
      ]
     },
     "metadata": {
      "needs_background": "light"
     },
     "output_type": "display_data"
    }
   ],
   "source": [
    "plt.title('customers buying frequencies by days')\n",
    "plt.xlabel(\"days\")\n",
    "plt.ylim([0,200])\n",
    "sns.distplot(list(filter(lambda x: x >= 20 and x < 80, customer_frequencies)), bins = 60, kde=False)"
   ]
  },
  {
   "cell_type": "code",
   "execution_count": 5,
   "metadata": {},
   "outputs": [
    {
     "data": {
      "text/plain": [
       "<matplotlib.axes._subplots.AxesSubplot at 0x7ff40934dbe0>"
      ]
     },
     "execution_count": 5,
     "metadata": {},
     "output_type": "execute_result"
    },
    {
     "data": {
      "image/png": "[encoded data removed]",
      "text/plain": [
       "<Figure size 432x288 with 1 Axes>"
      ]
     },
     "metadata": {
      "needs_background": "light"
     },
     "output_type": "display_data"
    }
   ],
   "source": [
    "plt.title('customers buying frequencies by days')\n",
    "plt.xlabel(\"days\")\n",
    "plt.ylim([0,200])\n",
    "sns.distplot(list(filter(lambda x: x >= 50 and x < 60, customer_frequencies)), bins = 10, kde=False)"
   ]
  },
  {
   "cell_type": "markdown",
   "metadata": {},
   "source": [
    "We will set N to be 53. This is just a subjective number, just based on the fact that there seems to be a \"valley\" around that number"
   ]
  },
  {
   "cell_type": "markdown",
   "metadata": {},
   "source": [
    "Now, we have to manipulate the dataset so that we create the train/test sets. In the meantime, we create the features that we are going to be using afterwards..."
   ]
  },
  {
   "cell_type": "code",
   "execution_count": 6,
   "metadata": {},
   "outputs": [],
   "source": [
    "original_df = pd.read_pickle(\"../models/df_preprocessed.pkl\")"
   ]
  },
  {
   "cell_type": "code",
   "execution_count": 7,
   "metadata": {},
   "outputs": [],
   "source": [
    "df = original_df.copy()"
   ]
  },
  {
   "cell_type": "code",
   "execution_count": 8,
   "metadata": {},
   "outputs": [],
   "source": [
    "group = df.groupby([\"customer_code\", \"register_date\"])"
   ]
  },
  {
   "cell_type": "code",
   "execution_count": 9,
   "metadata": {},
   "outputs": [
    {
     "data": {
      "text/plain": [
       "Index(['customer_code', 'group_code', 'is_churn', 'item_code',\n",
       "       'item_total_price', 'order_id', 'quantity', 'register_date',\n",
       "       'sales_channel', 'segment_code', 'seller_code', 'total_price',\n",
       "       'unit_price'],\n",
       "      dtype='object')"
      ]
     },
     "execution_count": 9,
     "metadata": {},
     "output_type": "execute_result"
    }
   ],
   "source": [
    "df.columns"
   ]
  },
  {
   "cell_type": "code",
   "execution_count": 10,
   "metadata": {},
   "outputs": [],
   "source": [
    "def get_daily_features(x):\n",
    "    d = []\n",
    "    d.append(x[\"group_code\"].median())\n",
    "    d.append(x[\"item_total_price\"].mean())\n",
    "    d.append(x[\"item_total_price\"].std())\n",
    "    d.append(x[\"quantity\"].mean())\n",
    "    d.append(x[\"quantity\"].std())\n",
    "    d.append(x[\"sales_channel\"].median())\n",
    "    d.append(x[\"segment_code\"].median())\n",
    "    d.append(x[\"total_price\"].sum())\n",
    "    return pd.Series(d, index=[\"group_code\", \"item_total_price_mean\", \"item_total_price_std\",\n",
    "                               \"quantity_mean\", \"quantity_std\", \"sales_channel\", \n",
    "                               \"segment_code\", \"total_price\"])\n",
    "\n",
    "daily_features_df = group.apply(get_daily_features)"
   ]
  },
  {
   "cell_type": "code",
   "execution_count": 11,
   "metadata": {},
   "outputs": [],
   "source": [
    "daily_features_df[\"number_of_daily_items\"] = df.reset_index().groupby([\"customer_code\", \"register_date\"]).size()"
   ]
  },
  {
   "cell_type": "code",
   "execution_count": 12,
   "metadata": {},
   "outputs": [
    {
     "data": {
      "text/html": [
       "<div>\n",
       "<style scoped>\n",
       "    .dataframe tbody tr th:only-of-type {\n",
       "        vertical-align: middle;\n",
       "    }\n",
       "\n",
       "    .dataframe tbody tr th {\n",
       "        vertical-align: top;\n",
       "    }\n",
       "\n",
       "    .dataframe thead th {\n",
       "        text-align: right;\n",
       "    }\n",
       "</style>\n",
       "<table border=\"1\" class=\"dataframe\">\n",
       "  <thead>\n",
       "    <tr style=\"text-align: right;\">\n",
       "      <th></th>\n",
       "      <th></th>\n",
       "      <th>group_code</th>\n",
       "      <th>item_total_price_mean</th>\n",
       "      <th>item_total_price_std</th>\n",
       "      <th>quantity_mean</th>\n",
       "      <th>quantity_std</th>\n",
       "      <th>sales_channel</th>\n",
       "      <th>segment_code</th>\n",
       "      <th>total_price</th>\n",
       "      <th>number_of_daily_items</th>\n",
       "    </tr>\n",
       "    <tr>\n",
       "      <th>customer_code</th>\n",
       "      <th>register_date</th>\n",
       "      <th></th>\n",
       "      <th></th>\n",
       "      <th></th>\n",
       "      <th></th>\n",
       "      <th></th>\n",
       "      <th></th>\n",
       "      <th></th>\n",
       "      <th></th>\n",
       "      <th></th>\n",
       "    </tr>\n",
       "  </thead>\n",
       "  <tbody>\n",
       "    <tr>\n",
       "      <th rowspan=\"5\" valign=\"top\">0</th>\n",
       "      <th>2008-09-23</th>\n",
       "      <td>0.0</td>\n",
       "      <td>324.694444</td>\n",
       "      <td>228.952532</td>\n",
       "      <td>10.333333</td>\n",
       "      <td>4.862824</td>\n",
       "      <td>8.0</td>\n",
       "      <td>0.0</td>\n",
       "      <td>84989.16</td>\n",
       "      <td>18</td>\n",
       "    </tr>\n",
       "    <tr>\n",
       "      <th>2009-05-06</th>\n",
       "      <td>0.0</td>\n",
       "      <td>271.269091</td>\n",
       "      <td>173.372300</td>\n",
       "      <td>10.636364</td>\n",
       "      <td>5.590576</td>\n",
       "      <td>8.0</td>\n",
       "      <td>0.0</td>\n",
       "      <td>26726.37</td>\n",
       "      <td>11</td>\n",
       "    </tr>\n",
       "    <tr>\n",
       "      <th>2009-08-05</th>\n",
       "      <td>0.0</td>\n",
       "      <td>3.000000</td>\n",
       "      <td>NaN</td>\n",
       "      <td>1.000000</td>\n",
       "      <td>NaN</td>\n",
       "      <td>2.0</td>\n",
       "      <td>0.0</td>\n",
       "      <td>3.00</td>\n",
       "      <td>1</td>\n",
       "    </tr>\n",
       "    <tr>\n",
       "      <th>2010-04-30</th>\n",
       "      <td>0.0</td>\n",
       "      <td>35.000000</td>\n",
       "      <td>NaN</td>\n",
       "      <td>1.000000</td>\n",
       "      <td>NaN</td>\n",
       "      <td>2.0</td>\n",
       "      <td>0.0</td>\n",
       "      <td>35.00</td>\n",
       "      <td>1</td>\n",
       "    </tr>\n",
       "    <tr>\n",
       "      <th>2010-08-24</th>\n",
       "      <td>0.0</td>\n",
       "      <td>387.630000</td>\n",
       "      <td>229.082947</td>\n",
       "      <td>7.733333</td>\n",
       "      <td>5.812138</td>\n",
       "      <td>1.0</td>\n",
       "      <td>0.0</td>\n",
       "      <td>73910.70</td>\n",
       "      <td>15</td>\n",
       "    </tr>\n",
       "  </tbody>\n",
       "</table>\n",
       "</div>"
      ],
      "text/plain": [
       "                             group_code  item_total_price_mean  \\\n",
       "customer_code register_date                                      \n",
       "0             2008-09-23            0.0             324.694444   \n",
       "              2009-05-06            0.0             271.269091   \n",
       "              2009-08-05            0.0               3.000000   \n",
       "              2010-04-30            0.0              35.000000   \n",
       "              2010-08-24            0.0             387.630000   \n",
       "\n",
       "                             item_total_price_std  quantity_mean  \\\n",
       "customer_code register_date                                        \n",
       "0             2008-09-23               228.952532      10.333333   \n",
       "              2009-05-06               173.372300      10.636364   \n",
       "              2009-08-05                      NaN       1.000000   \n",
       "              2010-04-30                      NaN       1.000000   \n",
       "              2010-08-24               229.082947       7.733333   \n",
       "\n",
       "                             quantity_std  sales_channel  segment_code  \\\n",
       "customer_code register_date                                              \n",
       "0             2008-09-23         4.862824            8.0           0.0   \n",
       "              2009-05-06         5.590576            8.0           0.0   \n",
       "              2009-08-05              NaN            2.0           0.0   \n",
       "              2010-04-30              NaN            2.0           0.0   \n",
       "              2010-08-24         5.812138            1.0           0.0   \n",
       "\n",
       "                             total_price  number_of_daily_items  \n",
       "customer_code register_date                                      \n",
       "0             2008-09-23        84989.16                     18  \n",
       "              2009-05-06        26726.37                     11  \n",
       "              2009-08-05            3.00                      1  \n",
       "              2010-04-30           35.00                      1  \n",
       "              2010-08-24        73910.70                     15  "
      ]
     },
     "execution_count": 12,
     "metadata": {},
     "output_type": "execute_result"
    }
   ],
   "source": [
    "daily_features_df.head()"
   ]
  },
  {
   "cell_type": "markdown",
   "metadata": {},
   "source": [
    "The last day of data is July 8th, 2018. If we subtract 53:"
   ]
  },
  {
   "cell_type": "code",
   "execution_count": 13,
   "metadata": {},
   "outputs": [],
   "source": [
    "import datetime"
   ]
  },
  {
   "cell_type": "code",
   "execution_count": 14,
   "metadata": {},
   "outputs": [
    {
     "data": {
      "text/plain": [
       "datetime.date(2018, 5, 16)"
      ]
     },
     "execution_count": 14,
     "metadata": {},
     "output_type": "execute_result"
    }
   ],
   "source": [
    "daily_features_df.reset_index().set_index(\"register_date\").sort_index().tail(1).index[0] - datetime.timedelta(days=53)"
   ]
  },
  {
   "cell_type": "markdown",
   "metadata": {},
   "source": [
    "We will take 70% as training set and 30% as test set, and we will use all the purchases from 2008-01-04 to 2018-05-15 to see the customer shopping \"habits\" and from 2018-05-16 to 2018-07-08 to determine tag the custermers as \"churn\" or \"not churn\""
   ]
  },
  {
   "cell_type": "code",
   "execution_count": 15,
   "metadata": {},
   "outputs": [],
   "source": [
    "last_date = datetime.date(2018,5,15)"
   ]
  },
  {
   "cell_type": "code",
   "execution_count": 16,
   "metadata": {},
   "outputs": [
    {
     "data": {
      "text/plain": [
       "(313, 837)"
      ]
     },
     "execution_count": 16,
     "metadata": {},
     "output_type": "execute_result"
    }
   ],
   "source": [
    "training_period = daily_features_df.reset_index().set_index(\"register_date\").sort_index()[:datetime.date(2018,5,15)]\n",
    "testing_period = daily_features_df.reset_index().set_index(\"register_date\").sort_index()[datetime.date(2018,5,16):]\n",
    "len(set(testing_period.customer_code)), df.customer_code.max()"
   ]
  },
  {
   "cell_type": "markdown",
   "metadata": {},
   "source": [
    "There will be 313 churn customers out of 837..."
   ]
  },
  {
   "cell_type": "code",
   "execution_count": 17,
   "metadata": {},
   "outputs": [],
   "source": [
    "churn_customers = set(testing_period.customer_code)"
   ]
  },
  {
   "cell_type": "code",
   "execution_count": 18,
   "metadata": {},
   "outputs": [],
   "source": [
    "def get_customer_features(x):\n",
    "    d = []\n",
    "    d.append(x[\"group_code\"].median())\n",
    "    d.append(x[\"item_total_price_mean\"].mean())\n",
    "    d.append(x[\"quantity_mean\"].mean())\n",
    "    d.append(x[\"sales_channel\"].median())\n",
    "    d.append(x[\"segment_code\"].median())\n",
    "    d.append(x[\"total_price\"].sum())\n",
    "    d.append(x[\"total_price\"].mean())\n",
    "    d.append(x[\"number_of_daily_items\"].mean())\n",
    "    d.append(x[\"number_of_daily_items\"].std())\n",
    "    return pd.Series(d, index=[\"group_code\", \"item_total_price_mean\", \"quantity_mean\", \n",
    "                               \"sales_channel\", \"segment_code\", \"total_price\", \n",
    "                               \"total_price_mean\", \"number_of_daily_items_mean\",\n",
    "                               \"number_of_daily_items_std\"])\n",
    "\n",
    "features_df = daily_features_df.reset_index().groupby(\"customer_code\").apply(get_customer_features)"
   ]
  },
  {
   "cell_type": "markdown",
   "metadata": {},
   "source": [
    "Adding features relative to the frequency on orders"
   ]
  },
  {
   "cell_type": "code",
   "execution_count": 19,
   "metadata": {},
   "outputs": [],
   "source": [
    "register_date = training_period.reset_index().set_index(\"customer_code\").register_date"
   ]
  },
  {
   "cell_type": "code",
   "execution_count": 20,
   "metadata": {},
   "outputs": [],
   "source": [
    "def get_shift(x):\n",
    "    d = []\n",
    "    d.append((x[\"register_date\"] - x[\"register_date\"].shift(1)).mean())\n",
    "    d.append((x[\"register_date\"] - x[\"register_date\"].shift(1)).std())\n",
    "    return pd.Series(d, index=[\"purchase_freq_mean\", \"purchase_freq_std\"])\n",
    "\n",
    "purchase_freq = training_period.reset_index().groupby(\"customer_code\").apply(get_shift)\n",
    "purchase_freq[\"purchase_freq_mean\"] = purchase_freq[\"purchase_freq_mean\"].apply(lambda x: x.days)\n",
    "purchase_freq[\"purchase_freq_std\"] = purchase_freq[\"purchase_freq_std\"].apply(lambda x: x.days)\n",
    "purchase_freq[\"last_purchase\"] = (datetime.date(2018,5,15) - \\\n",
    "                                  training_period.reset_index().sort_values(['customer_code','register_date']).groupby('customer_code').register_date.last())\n",
    "purchase_freq[\"last_purchase\"] = purchase_freq[\"last_purchase\"].apply(lambda x: x.days)"
   ]
  },
  {
   "cell_type": "code",
   "execution_count": 21,
   "metadata": {},
   "outputs": [],
   "source": [
    "features_df[\"purchase_freq_mean\"] = purchase_freq[\"purchase_freq_mean\"]\n",
    "features_df[\"purchase_freq_std\"] = purchase_freq[\"purchase_freq_std\"]\n",
    "features_df[\"last_purchase\"] = purchase_freq[\"last_purchase\"]"
   ]
  },
  {
   "cell_type": "code",
   "execution_count": 22,
   "metadata": {},
   "outputs": [],
   "source": [
    "features_df.loc[features_df[\"purchase_freq_mean\"].isna(), 'purchase_freq_mean'] = 1\n",
    "features_df.loc[features_df[\"purchase_freq_std\"].isna(), 'purchase_freq_std'] = 0"
   ]
  },
  {
   "cell_type": "markdown",
   "metadata": {},
   "source": [
    "Adding the churn label"
   ]
  },
  {
   "cell_type": "code",
   "execution_count": 23,
   "metadata": {},
   "outputs": [],
   "source": [
    "features_df[\"my_churn\"] = features_df.reset_index().customer_code.apply(lambda x: x in churn_customers)"
   ]
  },
  {
   "cell_type": "code",
   "execution_count": 24,
   "metadata": {},
   "outputs": [
    {
     "data": {
      "text/html": [
       "<div>\n",
       "<style scoped>\n",
       "    .dataframe tbody tr th:only-of-type {\n",
       "        vertical-align: middle;\n",
       "    }\n",
       "\n",
       "    .dataframe tbody tr th {\n",
       "        vertical-align: top;\n",
       "    }\n",
       "\n",
       "    .dataframe thead th {\n",
       "        text-align: right;\n",
       "    }\n",
       "</style>\n",
       "<table border=\"1\" class=\"dataframe\">\n",
       "  <thead>\n",
       "    <tr style=\"text-align: right;\">\n",
       "      <th></th>\n",
       "      <th>group_code</th>\n",
       "      <th>item_total_price_mean</th>\n",
       "      <th>quantity_mean</th>\n",
       "      <th>sales_channel</th>\n",
       "      <th>segment_code</th>\n",
       "      <th>total_price</th>\n",
       "      <th>total_price_mean</th>\n",
       "      <th>number_of_daily_items_mean</th>\n",
       "      <th>number_of_daily_items_std</th>\n",
       "      <th>purchase_freq_mean</th>\n",
       "      <th>purchase_freq_std</th>\n",
       "      <th>last_purchase</th>\n",
       "      <th>my_churn</th>\n",
       "    </tr>\n",
       "    <tr>\n",
       "      <th>customer_code</th>\n",
       "      <th></th>\n",
       "      <th></th>\n",
       "      <th></th>\n",
       "      <th></th>\n",
       "      <th></th>\n",
       "      <th></th>\n",
       "      <th></th>\n",
       "      <th></th>\n",
       "      <th></th>\n",
       "      <th></th>\n",
       "      <th></th>\n",
       "      <th></th>\n",
       "      <th></th>\n",
       "    </tr>\n",
       "  </thead>\n",
       "  <tbody>\n",
       "    <tr>\n",
       "      <th>0</th>\n",
       "      <td>0.0</td>\n",
       "      <td>520.651730</td>\n",
       "      <td>8.981093</td>\n",
       "      <td>0.0</td>\n",
       "      <td>0.0</td>\n",
       "      <td>785677.26</td>\n",
       "      <td>41351.434737</td>\n",
       "      <td>9.421053</td>\n",
       "      <td>4.879843</td>\n",
       "      <td>200.0</td>\n",
       "      <td>147.0</td>\n",
       "      <td>111</td>\n",
       "      <td>True</td>\n",
       "    </tr>\n",
       "    <tr>\n",
       "      <th>1</th>\n",
       "      <td>0.0</td>\n",
       "      <td>199.841094</td>\n",
       "      <td>7.057709</td>\n",
       "      <td>0.0</td>\n",
       "      <td>0.0</td>\n",
       "      <td>1083620.64</td>\n",
       "      <td>25800.491429</td>\n",
       "      <td>11.214286</td>\n",
       "      <td>4.936355</td>\n",
       "      <td>89.0</td>\n",
       "      <td>35.0</td>\n",
       "      <td>64</td>\n",
       "      <td>False</td>\n",
       "    </tr>\n",
       "    <tr>\n",
       "      <th>2</th>\n",
       "      <td>0.0</td>\n",
       "      <td>314.731072</td>\n",
       "      <td>10.510510</td>\n",
       "      <td>1.0</td>\n",
       "      <td>0.0</td>\n",
       "      <td>841537.44</td>\n",
       "      <td>21577.883077</td>\n",
       "      <td>7.871795</td>\n",
       "      <td>2.307647</td>\n",
       "      <td>99.0</td>\n",
       "      <td>37.0</td>\n",
       "      <td>83</td>\n",
       "      <td>True</td>\n",
       "    </tr>\n",
       "    <tr>\n",
       "      <th>3</th>\n",
       "      <td>0.0</td>\n",
       "      <td>784.640276</td>\n",
       "      <td>20.010695</td>\n",
       "      <td>1.0</td>\n",
       "      <td>0.0</td>\n",
       "      <td>5102786.19</td>\n",
       "      <td>82303.003065</td>\n",
       "      <td>10.241935</td>\n",
       "      <td>7.919028</td>\n",
       "      <td>61.0</td>\n",
       "      <td>47.0</td>\n",
       "      <td>7</td>\n",
       "      <td>False</td>\n",
       "    </tr>\n",
       "    <tr>\n",
       "      <th>4</th>\n",
       "      <td>0.0</td>\n",
       "      <td>421.877465</td>\n",
       "      <td>15.313200</td>\n",
       "      <td>1.0</td>\n",
       "      <td>0.0</td>\n",
       "      <td>1076850.86</td>\n",
       "      <td>30767.167429</td>\n",
       "      <td>8.600000</td>\n",
       "      <td>5.292614</td>\n",
       "      <td>106.0</td>\n",
       "      <td>78.0</td>\n",
       "      <td>117</td>\n",
       "      <td>False</td>\n",
       "    </tr>\n",
       "  </tbody>\n",
       "</table>\n",
       "</div>"
      ],
      "text/plain": [
       "               group_code  item_total_price_mean  quantity_mean  \\\n",
       "customer_code                                                     \n",
       "0                     0.0             520.651730       8.981093   \n",
       "1                     0.0             199.841094       7.057709   \n",
       "2                     0.0             314.731072      10.510510   \n",
       "3                     0.0             784.640276      20.010695   \n",
       "4                     0.0             421.877465      15.313200   \n",
       "\n",
       "               sales_channel  segment_code  total_price  total_price_mean  \\\n",
       "customer_code                                                               \n",
       "0                        0.0           0.0    785677.26      41351.434737   \n",
       "1                        0.0           0.0   1083620.64      25800.491429   \n",
       "2                        1.0           0.0    841537.44      21577.883077   \n",
       "3                        1.0           0.0   5102786.19      82303.003065   \n",
       "4                        1.0           0.0   1076850.86      30767.167429   \n",
       "\n",
       "               number_of_daily_items_mean  number_of_daily_items_std  \\\n",
       "customer_code                                                          \n",
       "0                                9.421053                   4.879843   \n",
       "1                               11.214286                   4.936355   \n",
       "2                                7.871795                   2.307647   \n",
       "3                               10.241935                   7.919028   \n",
       "4                                8.600000                   5.292614   \n",
       "\n",
       "               purchase_freq_mean  purchase_freq_std  last_purchase  my_churn  \n",
       "customer_code                                                                  \n",
       "0                           200.0              147.0            111      True  \n",
       "1                            89.0               35.0             64     False  \n",
       "2                            99.0               37.0             83      True  \n",
       "3                            61.0               47.0              7     False  \n",
       "4                           106.0               78.0            117     False  "
      ]
     },
     "execution_count": 24,
     "metadata": {},
     "output_type": "execute_result"
    }
   ],
   "source": [
    "features_df.head()"
   ]
  },
  {
   "cell_type": "markdown",
   "metadata": {},
   "source": [
    "# Churn Modelling"
   ]
  },
  {
   "cell_type": "markdown",
   "metadata": {},
   "source": [
    "We already have the features, let's try to model the \"churn\""
   ]
  },
  {
   "cell_type": "code",
   "execution_count": 25,
   "metadata": {},
   "outputs": [
    {
     "data": {
      "text/html": [
       "<div>\n",
       "<style scoped>\n",
       "    .dataframe tbody tr th:only-of-type {\n",
       "        vertical-align: middle;\n",
       "    }\n",
       "\n",
       "    .dataframe tbody tr th {\n",
       "        vertical-align: top;\n",
       "    }\n",
       "\n",
       "    .dataframe thead th {\n",
       "        text-align: right;\n",
       "    }\n",
       "</style>\n",
       "<table border=\"1\" class=\"dataframe\">\n",
       "  <thead>\n",
       "    <tr style=\"text-align: right;\">\n",
       "      <th></th>\n",
       "      <th>group_code</th>\n",
       "      <th>item_total_price_mean</th>\n",
       "      <th>quantity_mean</th>\n",
       "      <th>sales_channel</th>\n",
       "      <th>segment_code</th>\n",
       "      <th>total_price</th>\n",
       "      <th>total_price_mean</th>\n",
       "      <th>number_of_daily_items_mean</th>\n",
       "      <th>number_of_daily_items_std</th>\n",
       "      <th>purchase_freq_mean</th>\n",
       "      <th>purchase_freq_std</th>\n",
       "      <th>last_purchase</th>\n",
       "      <th>my_churn</th>\n",
       "    </tr>\n",
       "    <tr>\n",
       "      <th>customer_code</th>\n",
       "      <th></th>\n",
       "      <th></th>\n",
       "      <th></th>\n",
       "      <th></th>\n",
       "      <th></th>\n",
       "      <th></th>\n",
       "      <th></th>\n",
       "      <th></th>\n",
       "      <th></th>\n",
       "      <th></th>\n",
       "      <th></th>\n",
       "      <th></th>\n",
       "      <th></th>\n",
       "    </tr>\n",
       "  </thead>\n",
       "  <tbody>\n",
       "    <tr>\n",
       "      <th>0</th>\n",
       "      <td>0.0</td>\n",
       "      <td>520.651730</td>\n",
       "      <td>8.981093</td>\n",
       "      <td>0.0</td>\n",
       "      <td>0.0</td>\n",
       "      <td>785677.26</td>\n",
       "      <td>41351.434737</td>\n",
       "      <td>9.421053</td>\n",
       "      <td>4.879843</td>\n",
       "      <td>200.0</td>\n",
       "      <td>147.0</td>\n",
       "      <td>111</td>\n",
       "      <td>True</td>\n",
       "    </tr>\n",
       "    <tr>\n",
       "      <th>1</th>\n",
       "      <td>0.0</td>\n",
       "      <td>199.841094</td>\n",
       "      <td>7.057709</td>\n",
       "      <td>0.0</td>\n",
       "      <td>0.0</td>\n",
       "      <td>1083620.64</td>\n",
       "      <td>25800.491429</td>\n",
       "      <td>11.214286</td>\n",
       "      <td>4.936355</td>\n",
       "      <td>89.0</td>\n",
       "      <td>35.0</td>\n",
       "      <td>64</td>\n",
       "      <td>False</td>\n",
       "    </tr>\n",
       "    <tr>\n",
       "      <th>2</th>\n",
       "      <td>0.0</td>\n",
       "      <td>314.731072</td>\n",
       "      <td>10.510510</td>\n",
       "      <td>1.0</td>\n",
       "      <td>0.0</td>\n",
       "      <td>841537.44</td>\n",
       "      <td>21577.883077</td>\n",
       "      <td>7.871795</td>\n",
       "      <td>2.307647</td>\n",
       "      <td>99.0</td>\n",
       "      <td>37.0</td>\n",
       "      <td>83</td>\n",
       "      <td>True</td>\n",
       "    </tr>\n",
       "    <tr>\n",
       "      <th>3</th>\n",
       "      <td>0.0</td>\n",
       "      <td>784.640276</td>\n",
       "      <td>20.010695</td>\n",
       "      <td>1.0</td>\n",
       "      <td>0.0</td>\n",
       "      <td>5102786.19</td>\n",
       "      <td>82303.003065</td>\n",
       "      <td>10.241935</td>\n",
       "      <td>7.919028</td>\n",
       "      <td>61.0</td>\n",
       "      <td>47.0</td>\n",
       "      <td>7</td>\n",
       "      <td>False</td>\n",
       "    </tr>\n",
       "    <tr>\n",
       "      <th>4</th>\n",
       "      <td>0.0</td>\n",
       "      <td>421.877465</td>\n",
       "      <td>15.313200</td>\n",
       "      <td>1.0</td>\n",
       "      <td>0.0</td>\n",
       "      <td>1076850.86</td>\n",
       "      <td>30767.167429</td>\n",
       "      <td>8.600000</td>\n",
       "      <td>5.292614</td>\n",
       "      <td>106.0</td>\n",
       "      <td>78.0</td>\n",
       "      <td>117</td>\n",
       "      <td>False</td>\n",
       "    </tr>\n",
       "  </tbody>\n",
       "</table>\n",
       "</div>"
      ],
      "text/plain": [
       "               group_code  item_total_price_mean  quantity_mean  \\\n",
       "customer_code                                                     \n",
       "0                     0.0             520.651730       8.981093   \n",
       "1                     0.0             199.841094       7.057709   \n",
       "2                     0.0             314.731072      10.510510   \n",
       "3                     0.0             784.640276      20.010695   \n",
       "4                     0.0             421.877465      15.313200   \n",
       "\n",
       "               sales_channel  segment_code  total_price  total_price_mean  \\\n",
       "customer_code                                                               \n",
       "0                        0.0           0.0    785677.26      41351.434737   \n",
       "1                        0.0           0.0   1083620.64      25800.491429   \n",
       "2                        1.0           0.0    841537.44      21577.883077   \n",
       "3                        1.0           0.0   5102786.19      82303.003065   \n",
       "4                        1.0           0.0   1076850.86      30767.167429   \n",
       "\n",
       "               number_of_daily_items_mean  number_of_daily_items_std  \\\n",
       "customer_code                                                          \n",
       "0                                9.421053                   4.879843   \n",
       "1                               11.214286                   4.936355   \n",
       "2                                7.871795                   2.307647   \n",
       "3                               10.241935                   7.919028   \n",
       "4                                8.600000                   5.292614   \n",
       "\n",
       "               purchase_freq_mean  purchase_freq_std  last_purchase  my_churn  \n",
       "customer_code                                                                  \n",
       "0                           200.0              147.0            111      True  \n",
       "1                            89.0               35.0             64     False  \n",
       "2                            99.0               37.0             83      True  \n",
       "3                            61.0               47.0              7     False  \n",
       "4                           106.0               78.0            117     False  "
      ]
     },
     "execution_count": 25,
     "metadata": {},
     "output_type": "execute_result"
    }
   ],
   "source": [
    "features_df.head()"
   ]
  },
  {
   "cell_type": "code",
   "execution_count": 26,
   "metadata": {},
   "outputs": [],
   "source": [
    "X = features_df.reset_index().drop(columns=[\"my_churn\", \"customer_code\"])\n",
    "y = features_df.my_churn"
   ]
  },
  {
   "cell_type": "code",
   "execution_count": 27,
   "metadata": {},
   "outputs": [],
   "source": [
    "columns_to_normalize = [\"item_total_price_mean\",\n",
    "                        \"quantity_mean\",\n",
    "                        \"total_price\",\n",
    "                        \"total_price_mean\",\n",
    "                        \"number_of_daily_items_mean\",\n",
    "                        \"number_of_daily_items_std\"]"
   ]
  },
  {
   "cell_type": "markdown",
   "metadata": {},
   "source": [
    "Normalizing the data..."
   ]
  },
  {
   "cell_type": "code",
   "execution_count": 28,
   "metadata": {},
   "outputs": [],
   "source": [
    "for column in columns_to_normalize:\n",
    "    X[column] = (X[column] - X[column].mean()) / X[column].std()"
   ]
  },
  {
   "cell_type": "code",
   "execution_count": 29,
   "metadata": {},
   "outputs": [
    {
     "data": {
      "text/html": [
       "<div>\n",
       "<style scoped>\n",
       "    .dataframe tbody tr th:only-of-type {\n",
       "        vertical-align: middle;\n",
       "    }\n",
       "\n",
       "    .dataframe tbody tr th {\n",
       "        vertical-align: top;\n",
       "    }\n",
       "\n",
       "    .dataframe thead th {\n",
       "        text-align: right;\n",
       "    }\n",
       "</style>\n",
       "<table border=\"1\" class=\"dataframe\">\n",
       "  <thead>\n",
       "    <tr style=\"text-align: right;\">\n",
       "      <th></th>\n",
       "      <th>group_code</th>\n",
       "      <th>item_total_price_mean</th>\n",
       "      <th>quantity_mean</th>\n",
       "      <th>sales_channel</th>\n",
       "      <th>segment_code</th>\n",
       "      <th>total_price</th>\n",
       "      <th>total_price_mean</th>\n",
       "      <th>number_of_daily_items_mean</th>\n",
       "      <th>number_of_daily_items_std</th>\n",
       "      <th>purchase_freq_mean</th>\n",
       "      <th>purchase_freq_std</th>\n",
       "      <th>last_purchase</th>\n",
       "    </tr>\n",
       "  </thead>\n",
       "  <tbody>\n",
       "    <tr>\n",
       "      <th>0</th>\n",
       "      <td>0.0</td>\n",
       "      <td>0.817597</td>\n",
       "      <td>-0.218193</td>\n",
       "      <td>0.0</td>\n",
       "      <td>0.0</td>\n",
       "      <td>-0.028960</td>\n",
       "      <td>0.147919</td>\n",
       "      <td>-0.058543</td>\n",
       "      <td>-0.098107</td>\n",
       "      <td>200.0</td>\n",
       "      <td>147.0</td>\n",
       "      <td>111</td>\n",
       "    </tr>\n",
       "    <tr>\n",
       "      <th>1</th>\n",
       "      <td>0.0</td>\n",
       "      <td>-0.445183</td>\n",
       "      <td>-0.396837</td>\n",
       "      <td>0.0</td>\n",
       "      <td>0.0</td>\n",
       "      <td>-0.012248</td>\n",
       "      <td>-0.088858</td>\n",
       "      <td>0.374417</td>\n",
       "      <td>-0.081431</td>\n",
       "      <td>89.0</td>\n",
       "      <td>35.0</td>\n",
       "      <td>64</td>\n",
       "    </tr>\n",
       "    <tr>\n",
       "      <th>2</th>\n",
       "      <td>0.0</td>\n",
       "      <td>0.007049</td>\n",
       "      <td>-0.076141</td>\n",
       "      <td>1.0</td>\n",
       "      <td>0.0</td>\n",
       "      <td>-0.025827</td>\n",
       "      <td>-0.153151</td>\n",
       "      <td>-0.432596</td>\n",
       "      <td>-0.857165</td>\n",
       "      <td>99.0</td>\n",
       "      <td>37.0</td>\n",
       "      <td>83</td>\n",
       "    </tr>\n",
       "    <tr>\n",
       "      <th>3</th>\n",
       "      <td>0.0</td>\n",
       "      <td>1.856713</td>\n",
       "      <td>0.806236</td>\n",
       "      <td>1.0</td>\n",
       "      <td>0.0</td>\n",
       "      <td>0.213199</td>\n",
       "      <td>0.771444</td>\n",
       "      <td>0.139652</td>\n",
       "      <td>0.798759</td>\n",
       "      <td>61.0</td>\n",
       "      <td>47.0</td>\n",
       "      <td>7</td>\n",
       "    </tr>\n",
       "    <tr>\n",
       "      <th>4</th>\n",
       "      <td>0.0</td>\n",
       "      <td>0.428800</td>\n",
       "      <td>0.369933</td>\n",
       "      <td>1.0</td>\n",
       "      <td>0.0</td>\n",
       "      <td>-0.012627</td>\n",
       "      <td>-0.013236</td>\n",
       "      <td>-0.256778</td>\n",
       "      <td>0.023702</td>\n",
       "      <td>106.0</td>\n",
       "      <td>78.0</td>\n",
       "      <td>117</td>\n",
       "    </tr>\n",
       "  </tbody>\n",
       "</table>\n",
       "</div>"
      ],
      "text/plain": [
       "   group_code  item_total_price_mean  quantity_mean  sales_channel  \\\n",
       "0         0.0               0.817597      -0.218193            0.0   \n",
       "1         0.0              -0.445183      -0.396837            0.0   \n",
       "2         0.0               0.007049      -0.076141            1.0   \n",
       "3         0.0               1.856713       0.806236            1.0   \n",
       "4         0.0               0.428800       0.369933            1.0   \n",
       "\n",
       "   segment_code  total_price  total_price_mean  number_of_daily_items_mean  \\\n",
       "0           0.0    -0.028960          0.147919                   -0.058543   \n",
       "1           0.0    -0.012248         -0.088858                    0.374417   \n",
       "2           0.0    -0.025827         -0.153151                   -0.432596   \n",
       "3           0.0     0.213199          0.771444                    0.139652   \n",
       "4           0.0    -0.012627         -0.013236                   -0.256778   \n",
       "\n",
       "   number_of_daily_items_std  purchase_freq_mean  purchase_freq_std  \\\n",
       "0                  -0.098107               200.0              147.0   \n",
       "1                  -0.081431                89.0               35.0   \n",
       "2                  -0.857165                99.0               37.0   \n",
       "3                   0.798759                61.0               47.0   \n",
       "4                   0.023702               106.0               78.0   \n",
       "\n",
       "   last_purchase  \n",
       "0            111  \n",
       "1             64  \n",
       "2             83  \n",
       "3              7  \n",
       "4            117  "
      ]
     },
     "execution_count": 29,
     "metadata": {},
     "output_type": "execute_result"
    }
   ],
   "source": [
    "X.head()"
   ]
  },
  {
   "cell_type": "markdown",
   "metadata": {},
   "source": [
    "getting rid of NAs"
   ]
  },
  {
   "cell_type": "code",
   "execution_count": 30,
   "metadata": {},
   "outputs": [],
   "source": [
    "X.loc[X.number_of_daily_items_std.isna(), \"number_of_daily_items_std\"] = 0"
   ]
  },
  {
   "cell_type": "markdown",
   "metadata": {},
   "source": [
    "The data is ready to model and evaluate it... We will try with a Random Forest"
   ]
  },
  {
   "cell_type": "code",
   "execution_count": 31,
   "metadata": {},
   "outputs": [],
   "source": [
    "from sklearn.model_selection import cross_val_score, KFold\n",
    "from sklearn.ensemble import RandomForestClassifier\n",
    "from sklearn.metrics import confusion_matrix\n",
    "from sklearn.model_selection import RandomizedSearchCV\n",
    "from scipy.stats import randint"
   ]
  },
  {
   "cell_type": "code",
   "execution_count": 32,
   "metadata": {},
   "outputs": [
    {
     "name": "stderr",
     "output_type": "stream",
     "text": [
      "/opt/conda/lib/python3.7/site-packages/sklearn/model_selection/_search.py:841: DeprecationWarning: The default of the `iid` parameter will change from True to False in version 0.22 and will be removed in 0.24. This will change numeric results when test-set sizes are unequal.\n",
      "  DeprecationWarning)\n"
     ]
    },
    {
     "name": "stdout",
     "output_type": "stream",
     "text": [
      "best params {'bootstrap': True, 'criterion': 'entropy', 'max_depth': 5, 'max_features': 4, 'min_samples_leaf': 1, 'n_estimators': 200}\n",
      "score 0.7171837708830548\n"
     ]
    }
   ],
   "source": [
    "clf = RandomForestClassifier(n_estimators=200)\n",
    "rf_dist={\"max_depth\": [3,5,10,None],\n",
    "         \"max_features\": randint(1,len(X.columns)),\n",
    "         \"criterion\": [\"gini\",\"entropy\"],\n",
    "         \"bootstrap\": [True,False],\n",
    "         \"min_samples_leaf\": randint(1,10)\n",
    "        }\n",
    "searcher = RandomizedSearchCV(clf, param_distributions=rf_dist,\n",
    "                              n_jobs=-1, n_iter=100, cv=10)\n",
    "searcher.fit(X,y)\n",
    "params = searcher.best_params_\n",
    "score = searcher.best_score_\n",
    "params[\"n_estimators\"]=200\n",
    "print(\"best params\", params)\n",
    "print(\"score\", score)"
   ]
  },
  {
   "cell_type": "markdown",
   "metadata": {},
   "source": [
    "We can see what the most important features are..."
   ]
  },
  {
   "cell_type": "code",
   "execution_count": 33,
   "metadata": {},
   "outputs": [],
   "source": [
    "from sklearn.model_selection import train_test_split\n",
    "from sklearn.tree import DecisionTreeClassifier"
   ]
  },
  {
   "cell_type": "code",
   "execution_count": 34,
   "metadata": {},
   "outputs": [
    {
     "name": "stdout",
     "output_type": "stream",
     "text": [
      "[[104  55]\n",
      " [ 34  59]]\n"
     ]
    }
   ],
   "source": [
    "X_train, X_test, y_train, y_test = \\\n",
    "    train_test_split(X.index, y, test_size=0.3)\n",
    "X_train = X.iloc[X_train]\n",
    "X_test = X.iloc[X_test]\n",
    "model = DecisionTreeClassifier()\n",
    "model.fit(X_train, y_train)\n",
    "predicted = model.predict(X_test)\n",
    "matrix = confusion_matrix(y_test, predicted)\n",
    "print(matrix)"
   ]
  },
  {
   "cell_type": "code",
   "execution_count": 35,
   "metadata": {},
   "outputs": [
    {
     "name": "stdout",
     "output_type": "stream",
     "text": [
      "group_code 0.0\n",
      "item_total_price_mean 0.06096604670692063\n",
      "quantity_mean 0.04482130182657554\n",
      "sales_channel 0.003200195950464259\n",
      "segment_code 0.036175722332468185\n",
      "total_price 0.09416678086324401\n",
      "total_price_mean 0.0862521715345891\n",
      "number_of_daily_items_mean 0.07620034486854567\n",
      "number_of_daily_items_std 0.08000536742764873\n",
      "purchase_freq_mean 0.08091379606149832\n",
      "purchase_freq_std 0.1534565294359787\n",
      "last_purchase 0.2838417429920667\n"
     ]
    }
   ],
   "source": [
    "for name, importance in zip(X.columns, model.feature_importances_):\n",
    "    print(name, importance)"
   ]
  },
  {
   "cell_type": "markdown",
   "metadata": {},
   "source": [
    "The last purchase date seems to be very important... let's add the last 3 purchases"
   ]
  },
  {
   "cell_type": "code",
   "execution_count": 36,
   "metadata": {},
   "outputs": [],
   "source": [
    "tails = training_period.reset_index().sort_values(['customer_code','register_date']).groupby('customer_code').tail(3)\n",
    "tails = tails.set_index(\"customer_code\").register_date\n",
    "third_last = tails.groupby(\"customer_code\").head(1)\n",
    "second_last = tails.groupby(\"customer_code\").head(2).groupby(\"customer_code\").tail(1)"
   ]
  },
  {
   "cell_type": "code",
   "execution_count": 37,
   "metadata": {},
   "outputs": [],
   "source": [
    "features_df[\"second_last\"] = (datetime.date(2018,5,15) - second_last).apply(lambda x: x.days)\n",
    "features_df[\"third_last\"] = (datetime.date(2018,5,15) - third_last).apply(lambda x: x.days)"
   ]
  },
  {
   "cell_type": "code",
   "execution_count": 38,
   "metadata": {},
   "outputs": [],
   "source": [
    "X = features_df.reset_index().drop(columns=[\"my_churn\", \"customer_code\"])\n",
    "y = features_df.my_churn"
   ]
  },
  {
   "cell_type": "markdown",
   "metadata": {},
   "source": [
    "Normalize them again:"
   ]
  },
  {
   "cell_type": "code",
   "execution_count": 39,
   "metadata": {},
   "outputs": [],
   "source": [
    "for column in columns_to_normalize + [\"second_last\", \"third_last\"]:\n",
    "    X[column] = (X[column] - X[column].mean()) / X[column].std()"
   ]
  },
  {
   "cell_type": "code",
   "execution_count": 40,
   "metadata": {},
   "outputs": [],
   "source": [
    "X.loc[X.number_of_daily_items_std.isna(), \"number_of_daily_items_std\"] = 0"
   ]
  },
  {
   "cell_type": "code",
   "execution_count": 41,
   "metadata": {},
   "outputs": [
    {
     "name": "stderr",
     "output_type": "stream",
     "text": [
      "/opt/conda/lib/python3.7/site-packages/sklearn/model_selection/_search.py:841: DeprecationWarning: The default of the `iid` parameter will change from True to False in version 0.22 and will be removed in 0.24. This will change numeric results when test-set sizes are unequal.\n",
      "  DeprecationWarning)\n"
     ]
    },
    {
     "name": "stdout",
     "output_type": "stream",
     "text": [
      "best params {'bootstrap': True, 'criterion': 'entropy', 'max_depth': 10, 'max_features': 5, 'min_samples_leaf': 2, 'n_estimators': 200}\n",
      "score 0.7422434367541766\n"
     ]
    }
   ],
   "source": [
    "clf = RandomForestClassifier(n_estimators=200)\n",
    "rf_dist={\"max_depth\": [3,5,10,None],\n",
    "         \"max_features\": randint(1,len(X.columns)),\n",
    "         \"criterion\": [\"gini\",\"entropy\"],\n",
    "         \"bootstrap\": [True,False],\n",
    "         \"min_samples_leaf\": randint(1,10)\n",
    "        }\n",
    "searcher = RandomizedSearchCV(clf, param_distributions=rf_dist,\n",
    "                              n_jobs=-1, n_iter=100, cv=10)\n",
    "searcher.fit(X,y)\n",
    "params = searcher.best_params_\n",
    "score = searcher.best_score_\n",
    "params[\"n_estimators\"]=200\n",
    "print(\"best params\", params)\n",
    "print(\"score\", score)"
   ]
  },
  {
   "cell_type": "code",
   "execution_count": 42,
   "metadata": {},
   "outputs": [
    {
     "name": "stdout",
     "output_type": "stream",
     "text": [
      "Accuracy: 0.734022 (0.058892)\n"
     ]
    }
   ],
   "source": [
    "# Cross Validation Classification Accuracy\n",
    "random_state = 42\n",
    "kfold = KFold(n_splits=10, random_state=random_state)\n",
    "model = RandomForestClassifier(**params)\n",
    "scoring = 'accuracy'\n",
    "results = cross_val_score(model, X, y, cv=kfold, scoring=scoring)\n",
    "print(\"Accuracy: %f (%f)\" % (results.mean(), results.std()))"
   ]
  },
  {
   "cell_type": "markdown",
   "metadata": {},
   "source": [
    "### Summary\n",
    "\n",
    "* we performed churn analysis \n",
    "* we implemented a RF to predict if a customer is going to be a churn or not\n",
    "* we improved the model by adding more relevant features\n",
    "* the results are not good. About 63% of customers are not going to churn and we tagged them with a 73% of accuracy"
   ]
  },
  {
   "cell_type": "markdown",
   "metadata": {},
   "source": [
    "### What's next (TODO)\n",
    "\n",
    "The following is a list of things that could have been done (but I didn't because of lack of time. I wanted to work 5 hours; anyway I guess I did work longer than that)\n",
    "* the model should be updated online or on a period of time (like daily basis)\n",
    "* we should try with other models. I used decision trees because they let you easily rank the features\n",
    "* we have just evaluated the model using the accuracy. We should try with some other measures, including at least precision and recall."
   ]
  },
  {
   "cell_type": "code",
   "execution_count": null,
   "metadata": {},
   "outputs": [],
   "source": []
  },
  {
   "cell_type": "code",
   "execution_count": null,
   "metadata": {},
   "outputs": [],
   "source": []
  },
  {
   "cell_type": "code",
   "execution_count": null,
   "metadata": {},
   "outputs": [],
   "source": []
  },
  {
   "cell_type": "markdown",
   "metadata": {},
   "source": [
    "# DRAFT"
   ]
  },
  {
   "cell_type": "code",
   "execution_count": 52,
   "metadata": {},
   "outputs": [],
   "source": [
    "comparison = pd.DataFrame(data=np.array([X_test.last_purchase.values, predicted]).T, columns=[\"last_purchase\", \"prediction\"])"
   ]
  },
  {
   "cell_type": "code",
   "execution_count": 53,
   "metadata": {},
   "outputs": [
    {
     "data": {
      "text/plain": [
       "5"
      ]
     },
     "execution_count": 53,
     "metadata": {},
     "output_type": "execute_result"
    }
   ],
   "source": [
    "len(comparison[(comparison.last_purchase == 0) & (comparison.prediction == 0)])"
   ]
  },
  {
   "cell_type": "code",
   "execution_count": 54,
   "metadata": {},
   "outputs": [
    {
     "data": {
      "text/plain": [
       "2"
      ]
     },
     "execution_count": 54,
     "metadata": {},
     "output_type": "execute_result"
    }
   ],
   "source": [
    "len(comparison[(comparison.last_purchase == 0) & (comparison.prediction == 1)])"
   ]
  },
  {
   "cell_type": "code",
   "execution_count": 55,
   "metadata": {},
   "outputs": [
    {
     "data": {
      "text/plain": [
       "133"
      ]
     },
     "execution_count": 55,
     "metadata": {},
     "output_type": "execute_result"
    }
   ],
   "source": [
    "len(comparison[(comparison.last_purchase > 0) & (comparison.prediction == 0)])"
   ]
  },
  {
   "cell_type": "code",
   "execution_count": 56,
   "metadata": {},
   "outputs": [
    {
     "data": {
      "text/plain": [
       "112"
      ]
     },
     "execution_count": 56,
     "metadata": {},
     "output_type": "execute_result"
    }
   ],
   "source": [
    "len(comparison[(comparison.last_purchase > 0) & (comparison.prediction == 1)])"
   ]
  },
  {
   "cell_type": "code",
   "execution_count": 57,
   "metadata": {},
   "outputs": [
    {
     "data": {
      "text/plain": [
       "0.6309523809523809"
      ]
     },
     "execution_count": 57,
     "metadata": {},
     "output_type": "execute_result"
    }
   ],
   "source": [
    "1 - y_test.sum()/len(y_test)"
   ]
  },
  {
   "cell_type": "code",
   "execution_count": 58,
   "metadata": {},
   "outputs": [],
   "source": [
    "from sklearn.svm import SVC"
   ]
  },
  {
   "cell_type": "code",
   "execution_count": 60,
   "metadata": {},
   "outputs": [
    {
     "name": "stderr",
     "output_type": "stream",
     "text": [
      "/opt/conda/lib/python3.7/site-packages/sklearn/svm/base.py:196: FutureWarning: The default value of gamma will change from 'auto' to 'scale' in version 0.22 to account better for unscaled features. Set gamma explicitly to 'auto' or 'scale' to avoid this warning.\n",
      "  \"avoid this warning.\", FutureWarning)\n",
      "/opt/conda/lib/python3.7/site-packages/sklearn/svm/base.py:196: FutureWarning: The default value of gamma will change from 'auto' to 'scale' in version 0.22 to account better for unscaled features. Set gamma explicitly to 'auto' or 'scale' to avoid this warning.\n",
      "  \"avoid this warning.\", FutureWarning)\n",
      "/opt/conda/lib/python3.7/site-packages/sklearn/svm/base.py:196: FutureWarning: The default value of gamma will change from 'auto' to 'scale' in version 0.22 to account better for unscaled features. Set gamma explicitly to 'auto' or 'scale' to avoid this warning.\n",
      "  \"avoid this warning.\", FutureWarning)\n",
      "/opt/conda/lib/python3.7/site-packages/sklearn/svm/base.py:196: FutureWarning: The default value of gamma will change from 'auto' to 'scale' in version 0.22 to account better for unscaled features. Set gamma explicitly to 'auto' or 'scale' to avoid this warning.\n",
      "  \"avoid this warning.\", FutureWarning)\n",
      "/opt/conda/lib/python3.7/site-packages/sklearn/svm/base.py:196: FutureWarning: The default value of gamma will change from 'auto' to 'scale' in version 0.22 to account better for unscaled features. Set gamma explicitly to 'auto' or 'scale' to avoid this warning.\n",
      "  \"avoid this warning.\", FutureWarning)\n",
      "/opt/conda/lib/python3.7/site-packages/sklearn/svm/base.py:196: FutureWarning: The default value of gamma will change from 'auto' to 'scale' in version 0.22 to account better for unscaled features. Set gamma explicitly to 'auto' or 'scale' to avoid this warning.\n",
      "  \"avoid this warning.\", FutureWarning)\n",
      "/opt/conda/lib/python3.7/site-packages/sklearn/svm/base.py:196: FutureWarning: The default value of gamma will change from 'auto' to 'scale' in version 0.22 to account better for unscaled features. Set gamma explicitly to 'auto' or 'scale' to avoid this warning.\n",
      "  \"avoid this warning.\", FutureWarning)\n",
      "/opt/conda/lib/python3.7/site-packages/sklearn/svm/base.py:196: FutureWarning: The default value of gamma will change from 'auto' to 'scale' in version 0.22 to account better for unscaled features. Set gamma explicitly to 'auto' or 'scale' to avoid this warning.\n",
      "  \"avoid this warning.\", FutureWarning)\n",
      "/opt/conda/lib/python3.7/site-packages/sklearn/svm/base.py:196: FutureWarning: The default value of gamma will change from 'auto' to 'scale' in version 0.22 to account better for unscaled features. Set gamma explicitly to 'auto' or 'scale' to avoid this warning.\n",
      "  \"avoid this warning.\", FutureWarning)\n"
     ]
    },
    {
     "name": "stdout",
     "output_type": "stream",
     "text": [
      "Accuracy: 0.630164 (0.053710)\n"
     ]
    },
    {
     "name": "stderr",
     "output_type": "stream",
     "text": [
      "/opt/conda/lib/python3.7/site-packages/sklearn/svm/base.py:196: FutureWarning: The default value of gamma will change from 'auto' to 'scale' in version 0.22 to account better for unscaled features. Set gamma explicitly to 'auto' or 'scale' to avoid this warning.\n",
      "  \"avoid this warning.\", FutureWarning)\n"
     ]
    }
   ],
   "source": [
    "# Cross Validation Classification Accuracy\n",
    "random_state = 42\n",
    "kfold = KFold(n_splits=10, random_state=random_state)\n",
    "clf = SVC(kernel='rbf')  \n",
    "# svclassifier.fit(X_train, y_train)  \n",
    "scoring = 'accuracy'\n",
    "results = cross_val_score(clf, X, y, cv=kfold, scoring=scoring)\n",
    "print(\"Accuracy: %f (%f)\" % (results.mean(), results.std()))"
   ]
  },
  {
   "cell_type": "code",
   "execution_count": null,
   "metadata": {},
   "outputs": [],
   "source": []
  },
  {
   "cell_type": "code",
   "execution_count": null,
   "metadata": {},
   "outputs": [],
   "source": []
  },
  {
   "cell_type": "code",
   "execution_count": null,
   "metadata": {},
   "outputs": [],
   "source": []
  },
  {
   "cell_type": "code",
   "execution_count": null,
   "metadata": {},
   "outputs": [],
   "source": []
  }
 ],
 "metadata": {
  "kernelspec": {
   "display_name": "Python 3",
   "language": "python",
   "name": "python3"
  },
  "language_info": {
   "codemirror_mode": {
    "name": "ipython",
    "version": 3
   },
   "file_extension": ".py",
   "mimetype": "text/x-python",
   "name": "python",
   "nbconvert_exporter": "python",
   "pygments_lexer": "ipython3",
   "version": "3.7.1"
  }
 },
 "nbformat": 4,
 "nbformat_minor": 2
}
